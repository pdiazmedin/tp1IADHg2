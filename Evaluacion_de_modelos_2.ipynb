{
  "nbformat": 4,
  "nbformat_minor": 0,
  "metadata": {
    "kernelspec": {
      "display_name": "Python 3",
      "language": "python",
      "name": "python3"
    },
    "language_info": {
      "codemirror_mode": {
        "name": "ipython",
        "version": 3
      },
      "file_extension": ".py",
      "mimetype": "text/x-python",
      "name": "python",
      "nbconvert_exporter": "python",
      "pygments_lexer": "ipython3",
      "version": "3.7.3"
    },
    "colab": {
      "name": "Evaluacion_de_modelos.ipynb",
      "provenance": [],
      "collapsed_sections": []
    },
    "accelerator": "TPU"
  },
  "cells": [
    {
      "cell_type": "code",
      "metadata": {
        "id": "L1a9lyy1azCv"
      },
      "source": [
        "import pandas as pd\n",
        "import seaborn as sns\n",
        "from sklearn.model_selection import train_test_split, KFold, cross_val_score\n",
        "from sklearn.linear_model import LinearRegression, Lasso, LassoCV, Ridge, RidgeCV\n",
        "from sklearn.preprocessing import StandardScaler\n",
        "from sklearn.metrics import mean_squared_error,r2_score\n",
        "from keras.models import Sequential\n",
        "from keras.layers import Dense\n",
        "from keras.wrappers.scikit_learn import KerasRegressor\n",
        "import pickle\n",
        "from keras import optimizers\n",
        "import itertools"
      ],
      "execution_count": 76,
      "outputs": []
    },
    {
      "cell_type": "code",
      "metadata": {
        "id": "-vneGIcwazC0"
      },
      "source": [
        "df=pickle.load(open(\"desafio_1_data.pkl\", 'rb'))"
      ],
      "execution_count": 77,
      "outputs": []
    },
    {
      "cell_type": "code",
      "metadata": {
        "id": "GIjsiDGGazC3"
      },
      "source": [
        "X=df.drop(columns='points')\n",
        "y=df['points']"
      ],
      "execution_count": 78,
      "outputs": []
    },
    {
      "cell_type": "code",
      "metadata": {
        "id": "qEdWOxlBazC6"
      },
      "source": [
        "X_train, X_test, Y_train, Y_test = train_test_split(X, y, test_size=0.2, random_state=42)"
      ],
      "execution_count": 79,
      "outputs": []
    },
    {
      "cell_type": "code",
      "metadata": {
        "id": "KS8f1eRKazC-",
        "outputId": "0e84337d-0987-4b3b-e1a6-3adf6755ab58",
        "colab": {
          "base_uri": "https://localhost:8080/",
          "height": 34
        }
      },
      "source": [
        "X_train.shape"
      ],
      "execution_count": 80,
      "outputs": [
        {
          "output_type": "execute_result",
          "data": {
            "text/plain": [
              "(89274, 48)"
            ]
          },
          "metadata": {
            "tags": []
          },
          "execution_count": 80
        }
      ]
    },
    {
      "cell_type": "code",
      "metadata": {
        "id": "g7fJ3g09azDB"
      },
      "source": [
        "scaler = StandardScaler()\n",
        "X_train = scaler.fit_transform(X_train)\n",
        "X_test = scaler.transform(X_test)"
      ],
      "execution_count": 81,
      "outputs": []
    },
    {
      "cell_type": "code",
      "metadata": {
        "id": "iUY3zfhaazDI"
      },
      "source": [
        "clf = LinearRegression()"
      ],
      "execution_count": 82,
      "outputs": []
    },
    {
      "cell_type": "code",
      "metadata": {
        "id": "m9xWLiTqazDL",
        "outputId": "b0085e30-618c-44ff-c6ce-3b71055be7d2",
        "colab": {
          "base_uri": "https://localhost:8080/",
          "height": 34
        }
      },
      "source": [
        "clf.fit(X_train, Y_train) "
      ],
      "execution_count": 83,
      "outputs": [
        {
          "output_type": "execute_result",
          "data": {
            "text/plain": [
              "LinearRegression(copy_X=True, fit_intercept=True, n_jobs=None, normalize=False)"
            ]
          },
          "metadata": {
            "tags": []
          },
          "execution_count": 83
        }
      ]
    },
    {
      "cell_type": "code",
      "metadata": {
        "id": "GYg_ZtZLazDN"
      },
      "source": [
        "y_predict_test = clf.predict(X_test)\n",
        "y_predict_train=clf.predict(X_train)"
      ],
      "execution_count": 84,
      "outputs": []
    },
    {
      "cell_type": "code",
      "metadata": {
        "id": "lpLxGGHTazDR",
        "outputId": "389e04d4-bc8e-4794-c1e3-9e47a3583b5e",
        "colab": {
          "base_uri": "https://localhost:8080/",
          "height": 34
        }
      },
      "source": [
        "y_predict_test.shape,Y_test.shape"
      ],
      "execution_count": 85,
      "outputs": [
        {
          "output_type": "execute_result",
          "data": {
            "text/plain": [
              "((22319,), (22319,))"
            ]
          },
          "metadata": {
            "tags": []
          },
          "execution_count": 85
        }
      ]
    },
    {
      "cell_type": "code",
      "metadata": {
        "id": "sfmFDlcNazDU",
        "outputId": "20420f39-5fc4-4ba5-c7b8-126f58d5937e",
        "colab": {
          "base_uri": "https://localhost:8080/",
          "height": 85
        }
      },
      "source": [
        "print(\"Train MSE =\",mean_squared_error(Y_train,y_predict_train),\"\\n\"\n",
        "      \"Test MSE =\",mean_squared_error(Y_test,y_predict_test)\n",
        "     )\n",
        "print(\"Train Score =\",clf.score(X_train,Y_train),\"\\n\"\n",
        "      \"Test Score =\",clf.score(X_test,Y_test)\n",
        "     )"
      ],
      "execution_count": 86,
      "outputs": [
        {
          "output_type": "stream",
          "text": [
            "Train MSE = 3.664766369901501 \n",
            "Test MSE = 3.7902097944421165\n",
            "Train Score = 0.618200423449637 \n",
            "Test Score = 0.6058647072622159\n"
          ],
          "name": "stdout"
        }
      ]
    },
    {
      "cell_type": "code",
      "metadata": {
        "id": "xkdrsu1SazDW",
        "outputId": "0deda5cc-e2f1-465e-e376-5cffdceec10d",
        "colab": {
          "base_uri": "https://localhost:8080/",
          "height": 34
        }
      },
      "source": [
        "X_train.shape[1]"
      ],
      "execution_count": 87,
      "outputs": [
        {
          "output_type": "execute_result",
          "data": {
            "text/plain": [
              "48"
            ]
          },
          "metadata": {
            "tags": []
          },
          "execution_count": 87
        }
      ]
    },
    {
      "cell_type": "code",
      "metadata": {
        "id": "SOlvk-KiIpxx"
      },
      "source": [
        "def build_model_2():\n",
        "    model = Sequential()\n",
        "    model.add(Dense(64, activation='relu',\n",
        "                    input_shape=(X_Train.shape[1],)))\n",
        "    model.add(Dense(64, activation='relu'))\n",
        "    model.add(Dense(1))\n",
        "    model.compile(optimizer='rmsprop', loss='mse', metrics=['mae'])\n",
        "    return model"
      ],
      "execution_count": 95,
      "outputs": []
    },
    {
      "cell_type": "code",
      "metadata": {
        "id": "RPDW2pTVJOXR",
        "outputId": "0c4e0404-0e71-4689-c354-22e3c9b62cdd",
        "colab": {
          "base_uri": "https://localhost:8080/",
          "height": 714
        }
      },
      "source": [
        "# Armar modelo\n",
        "model = build_model_2()\n",
        "\n",
        "# Entrenamos el modelo con el training set completo\n",
        "# Esta vez tomamos el número de epochs con mejor MAE en validación\n",
        "model.fit(X_train,Y_train,\n",
        "          epochs=20, batch_size=32, verbose=1)"
      ],
      "execution_count": 89,
      "outputs": [
        {
          "output_type": "stream",
          "text": [
            "Epoch 1/20\n",
            "2790/2790 [==============================] - 3s 1ms/step - loss: 79.2448 - mae: 4.6785\n",
            "Epoch 2/20\n",
            "2790/2790 [==============================] - 3s 1ms/step - loss: 14.2305 - mae: 2.9205\n",
            "Epoch 3/20\n",
            "2790/2790 [==============================] - 3s 1ms/step - loss: 10.7117 - mae: 2.5762\n",
            "Epoch 4/20\n",
            "2790/2790 [==============================] - 4s 1ms/step - loss: 9.3154 - mae: 2.4032\n",
            "Epoch 5/20\n",
            "2790/2790 [==============================] - 3s 1ms/step - loss: 8.4278 - mae: 2.2979\n",
            "Epoch 6/20\n",
            "2790/2790 [==============================] - 4s 1ms/step - loss: 7.6925 - mae: 2.2088\n",
            "Epoch 7/20\n",
            "2790/2790 [==============================] - 3s 1ms/step - loss: 7.3287 - mae: 2.1431\n",
            "Epoch 8/20\n",
            "2790/2790 [==============================] - 3s 1ms/step - loss: 6.9761 - mae: 2.0881\n",
            "Epoch 9/20\n",
            "2790/2790 [==============================] - 3s 1ms/step - loss: 6.6917 - mae: 2.0439\n",
            "Epoch 10/20\n",
            "2790/2790 [==============================] - 3s 1ms/step - loss: 6.3472 - mae: 1.9996\n",
            "Epoch 11/20\n",
            "2790/2790 [==============================] - 3s 1ms/step - loss: 6.1204 - mae: 1.9594\n",
            "Epoch 12/20\n",
            "2790/2790 [==============================] - 3s 1ms/step - loss: 5.9595 - mae: 1.9223\n",
            "Epoch 13/20\n",
            "2790/2790 [==============================] - 3s 1ms/step - loss: 5.7339 - mae: 1.8857\n",
            "Epoch 14/20\n",
            "2790/2790 [==============================] - 3s 1ms/step - loss: 5.4690 - mae: 1.8546\n",
            "Epoch 15/20\n",
            "2790/2790 [==============================] - 3s 1ms/step - loss: 5.3493 - mae: 1.8305\n",
            "Epoch 16/20\n",
            "2790/2790 [==============================] - 3s 1ms/step - loss: 5.2032 - mae: 1.8043\n",
            "Epoch 17/20\n",
            "2790/2790 [==============================] - 3s 1ms/step - loss: 5.0717 - mae: 1.7841\n",
            "Epoch 18/20\n",
            "2790/2790 [==============================] - 3s 1ms/step - loss: 4.9959 - mae: 1.7697\n",
            "Epoch 19/20\n",
            "2790/2790 [==============================] - 3s 1ms/step - loss: 4.9543 - mae: 1.7565\n",
            "Epoch 20/20\n",
            "2790/2790 [==============================] - 3s 1ms/step - loss: 4.8194 - mae: 1.7422\n"
          ],
          "name": "stdout"
        },
        {
          "output_type": "execute_result",
          "data": {
            "text/plain": [
              "<tensorflow.python.keras.callbacks.History at 0x7f4dd2b04b70>"
            ]
          },
          "metadata": {
            "tags": []
          },
          "execution_count": 89
        }
      ]
    },
    {
      "cell_type": "code",
      "metadata": {
        "id": "TaNPCsuRaNYh",
        "outputId": "06399cf8-4015-459b-9eef-3032f52d98db",
        "colab": {
          "base_uri": "https://localhost:8080/",
          "height": 51
        }
      },
      "source": [
        "test_mse_score_2, test_mae_score_2=model.evaluate(X_test, Y_test)\n",
        "test_mse_score_2, test_mae_score_2"
      ],
      "execution_count": 90,
      "outputs": [
        {
          "output_type": "stream",
          "text": [
            "698/698 [==============================] - 1s 824us/step - loss: 4.5439 - mae: 1.6161\n"
          ],
          "name": "stdout"
        },
        {
          "output_type": "execute_result",
          "data": {
            "text/plain": [
              "(4.543900012969971, 1.616093397140503)"
            ]
          },
          "metadata": {
            "tags": []
          },
          "execution_count": 90
        }
      ]
    },
    {
      "cell_type": "code",
      "metadata": {
        "id": "K6uz6wada5M0",
        "outputId": "54dd55d6-9c0c-464e-d9da-939a33d81b74",
        "colab": {
          "base_uri": "https://localhost:8080/",
          "height": 136
        }
      },
      "source": [
        "Y_predict=model.predict(X_test)\n",
        "Y_predict"
      ],
      "execution_count": 91,
      "outputs": [
        {
          "output_type": "execute_result",
          "data": {
            "text/plain": [
              "array([[92.17701 ],\n",
              "       [89.296   ],\n",
              "       [92.336914],\n",
              "       ...,\n",
              "       [87.4649  ],\n",
              "       [89.04827 ],\n",
              "       [91.346176]], dtype=float32)"
            ]
          },
          "metadata": {
            "tags": []
          },
          "execution_count": 91
        }
      ]
    },
    {
      "cell_type": "code",
      "metadata": {
        "id": "VlSvhIdeJlwb",
        "outputId": "60720faa-8314-4d77-96cb-d996979ca0a0",
        "colab": {
          "base_uri": "https://localhost:8080/",
          "height": 51
        }
      },
      "source": [
        "# Imprimimos el MAE obtenido esta vez\n",
        "test_mse_score, test_mae_score = model.evaluate(X_test, Y_test)\n",
        "test_mse_score,test_mae_score"
      ],
      "execution_count": 92,
      "outputs": [
        {
          "output_type": "stream",
          "text": [
            "698/698 [==============================] - 1s 944us/step - loss: 4.5439 - mae: 1.6161\n"
          ],
          "name": "stdout"
        },
        {
          "output_type": "execute_result",
          "data": {
            "text/plain": [
              "(4.543900012969971, 1.616093397140503)"
            ]
          },
          "metadata": {
            "tags": []
          },
          "execution_count": 92
        }
      ]
    },
    {
      "cell_type": "code",
      "metadata": {
        "id": "CU1BUii_C7t7"
      },
      "source": [
        "def build_model(input_shape=(28,28), layers=[64,64], optimizer='rmsprop'):\n",
        "    # Instanciamos la clase del modelo secuencial\n",
        "    model = Sequential()\n",
        "\n",
        "    for l in layers[:-1]:\n",
        "        model.add(Dense(units=l, activation='relu'))\n",
        "\n",
        "    model.add(Dense(1))\n",
        "    # Compilamos el modelo con el optimizador seleccionado\n",
        "    model.compile(optimizer=optimizer, loss='mse', metrics=['mae'])\n",
        "    # Retornamos el modelo compilado\n",
        "    return model"
      ],
      "execution_count": 93,
      "outputs": []
    },
    {
      "cell_type": "code",
      "metadata": {
        "id": "l_yZ3-QmazDd"
      },
      "source": [
        "model = build_model(layers=[32, 32])"
      ],
      "execution_count": 94,
      "outputs": []
    },
    {
      "cell_type": "code",
      "metadata": {
        "id": "Squ7svKWEyc-",
        "outputId": "5d315e46-af2e-465a-ab28-02d060e16388",
        "colab": {
          "base_uri": "https://localhost:8080/",
          "height": 316
        }
      },
      "source": [
        "model.summary()"
      ],
      "execution_count": 39,
      "outputs": [
        {
          "output_type": "error",
          "ename": "ValueError",
          "evalue": "ignored",
          "traceback": [
            "\u001b[0;31m---------------------------------------------------------------------------\u001b[0m",
            "\u001b[0;31mValueError\u001b[0m                                Traceback (most recent call last)",
            "\u001b[0;32m<ipython-input-39-5f15418b3570>\u001b[0m in \u001b[0;36m<module>\u001b[0;34m()\u001b[0m\n\u001b[0;32m----> 1\u001b[0;31m \u001b[0mmodel\u001b[0m\u001b[0;34m.\u001b[0m\u001b[0msummary\u001b[0m\u001b[0;34m(\u001b[0m\u001b[0;34m)\u001b[0m\u001b[0;34m\u001b[0m\u001b[0;34m\u001b[0m\u001b[0m\n\u001b[0m",
            "\u001b[0;32m/usr/local/lib/python3.6/dist-packages/tensorflow/python/keras/engine/training.py\u001b[0m in \u001b[0;36msummary\u001b[0;34m(self, line_length, positions, print_fn)\u001b[0m\n\u001b[1;32m   2349\u001b[0m     \"\"\"\n\u001b[1;32m   2350\u001b[0m     \u001b[0;32mif\u001b[0m \u001b[0;32mnot\u001b[0m \u001b[0mself\u001b[0m\u001b[0;34m.\u001b[0m\u001b[0mbuilt\u001b[0m\u001b[0;34m:\u001b[0m\u001b[0;34m\u001b[0m\u001b[0;34m\u001b[0m\u001b[0m\n\u001b[0;32m-> 2351\u001b[0;31m       raise ValueError('This model has not yet been built. '\n\u001b[0m\u001b[1;32m   2352\u001b[0m                        \u001b[0;34m'Build the model first by calling `build()` or calling '\u001b[0m\u001b[0;34m\u001b[0m\u001b[0;34m\u001b[0m\u001b[0m\n\u001b[1;32m   2353\u001b[0m                        \u001b[0;34m'`fit()` with some data, or specify '\u001b[0m\u001b[0;34m\u001b[0m\u001b[0;34m\u001b[0m\u001b[0m\n",
            "\u001b[0;31mValueError\u001b[0m: This model has not yet been built. Build the model first by calling `build()` or calling `fit()` with some data, or specify an `input_shape` argument in the first layer(s) for automatic build."
          ]
        }
      ]
    },
    {
      "cell_type": "code",
      "metadata": {
        "id": "l0jIFfMBazDi",
        "outputId": "8e25401e-867c-4085-b983-31009d86c387",
        "colab": {
          "base_uri": "https://localhost:8080/",
          "height": 153
        }
      },
      "source": [
        "# Definimos la \"grilla\" de parámetros que vamos a explorar\n",
        "layers = [[512, 10],\n",
        "          [64, 32,10]\n",
        "         ]\n",
        "optimizers = [optimizers.Adam(), optimizers.SGD(momentum=0.9, nesterov=True)]\n",
        "combinaciones = list(itertools.product(layers, optimizers))\n",
        "combinaciones"
      ],
      "execution_count": 24,
      "outputs": [
        {
          "output_type": "execute_result",
          "data": {
            "text/plain": [
              "[([512, 10],\n",
              "  <tensorflow.python.keras.optimizer_v2.adam.Adam at 0x7f4dd1edb160>),\n",
              " ([512, 10],\n",
              "  <tensorflow.python.keras.optimizer_v2.gradient_descent.SGD at 0x7f4dd1edb470>),\n",
              " ([64, 32, 10],\n",
              "  <tensorflow.python.keras.optimizer_v2.adam.Adam at 0x7f4dd1edb160>),\n",
              " ([64, 32, 10],\n",
              "  <tensorflow.python.keras.optimizer_v2.gradient_descent.SGD at 0x7f4dd1edb470>)]"
            ]
          },
          "metadata": {
            "tags": []
          },
          "execution_count": 24
        }
      ]
    },
    {
      "cell_type": "code",
      "metadata": {
        "id": "Hro33klRCDa3"
      },
      "source": [
        "# Definamos algunas variables\n",
        "n_splits = 3\n",
        "batch_size = 256\n",
        "epochs = 20\n",
        "verbose = 1"
      ],
      "execution_count": 25,
      "outputs": []
    },
    {
      "cell_type": "code",
      "metadata": {
        "id": "dnnf-onACriY"
      },
      "source": [
        ""
      ],
      "execution_count": null,
      "outputs": []
    }
  ]
}